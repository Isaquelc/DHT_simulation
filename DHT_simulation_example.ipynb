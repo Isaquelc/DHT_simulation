{
 "cells": [
  {
   "cell_type": "markdown",
   "metadata": {},
   "source": [
    "# This is an example of the Distributed Hash Table simulation\n",
    " - **author:** Isaque Lopes Campello\n"
   ]
  },
  {
   "cell_type": "markdown",
   "metadata": {},
   "source": [
    "## Setup"
   ]
  },
  {
   "cell_type": "code",
   "execution_count": 1,
   "metadata": {},
   "outputs": [],
   "source": [
    "import base64\n",
    "import textwrap\n",
    "import hashlib\n",
    "from pathlib import Path\n",
    "import numpy as np\n",
    "import shutil\n",
    "import os\n",
    "\n",
    "from DHT_sim import *"
   ]
  },
  {
   "cell_type": "markdown",
   "metadata": {},
   "source": [
    "## Demonstration of DHT"
   ]
  },
  {
   "cell_type": "markdown",
   "metadata": {},
   "source": [
    "First, in order to have a DHT, we will create the nodes that will compose the network. For example, let's create a network with 5 nodes."
   ]
  },
  {
   "cell_type": "code",
   "execution_count": 2,
   "metadata": {},
   "outputs": [],
   "source": [
    "a = node(\"a\")\n",
    "b = node(\"b\")\n",
    "c = node(\"c\")\n",
    "d = node(\"d\")\n",
    "e = node(\"e\")"
   ]
  },
  {
   "cell_type": "markdown",
   "metadata": {},
   "source": [
    "Then, we need to create the network. To do this, we use the function *join_network(node)*, and pass in any node, and the node will be added to the correct place based on it's id, in order to create a circular network."
   ]
  },
  {
   "cell_type": "code",
   "execution_count": 3,
   "metadata": {},
   "outputs": [],
   "source": [
    "a.join_network(a)\n",
    "b.join_network(a)\n",
    "c.join_network(a)\n",
    "d.join_network(a)\n",
    "e.join_network(a)"
   ]
  },
  {
   "cell_type": "code",
   "execution_count": 4,
   "metadata": {},
   "outputs": [
    {
     "name": "stdout",
     "output_type": "stream",
     "text": [
      "a id: 91634..., neighbours: e, d, first: False\n",
      "b id: 28106..., neighbours: c, e, first: False\n",
      "c id: 21027..., neighbours: d, b, first: False\n",
      "d id: 11159..., neighbours: a, c, first: True\n",
      "e id: 28710..., neighbours: b, a, first: False\n"
     ]
    }
   ],
   "source": [
    "for node in [a, b, c, d, e]:\n",
    "    print(f\"{node.name} id: {str(node.id)[:5]}..., neighbours: {node.neighbours[0].name}, {node.neighbours[1].name}, first: {node.first}\")"
   ]
  },
  {
   "cell_type": "markdown",
   "metadata": {},
   "source": [
    "We also keep track of who is the *first* node, which is used in many operations. Bellow we can iterate over our nodes and move *clockwise*, always looking to our right neighbour, and see that we arrive back to the first node from which we began"
   ]
  },
  {
   "cell_type": "code",
   "execution_count": 5,
   "metadata": {},
   "outputs": [
    {
     "name": "stdout",
     "output_type": "stream",
     "text": [
      "a -> e -> b -> c -> d -> a -> \n"
     ]
    }
   ],
   "source": [
    "node_list = \"\"\n",
    "current_node = d\n",
    "for i in range(6):\n",
    "    node_list += f\"{current_node.neighbours[0].name} -> \"\n",
    "    current_node = current_node.neighbours[0]\n",
    "print(node_list)"
   ]
  },
  {
   "cell_type": "markdown",
   "metadata": {},
   "source": [
    "Let's now seed a file into the network. This file is a short video in the **videos** folder. We will seed this video and split it into 5 parts, which will be distributed into the network. The node that seeds it doesn't really matter.\n",
    "\n",
    "To do this, we pass both the **path** and the **file name** into the function, as well as the **number of parts** into which we want to split the video."
   ]
  },
  {
   "cell_type": "code",
   "execution_count": 6,
   "metadata": {},
   "outputs": [],
   "source": [
    "a.seed(\"videos/David_&_Goliath_animation.mp4\", \"David_&_Goliath_animation\", 5)"
   ]
  },
  {
   "cell_type": "markdown",
   "metadata": {},
   "source": [
    "Let's now check where the parts where stored"
   ]
  },
  {
   "cell_type": "code",
   "execution_count": 7,
   "metadata": {},
   "outputs": [
    {
     "name": "stdout",
     "output_type": "stream",
     "text": [
      "-> a\n",
      "   | David_&_Goliath_animation_0.txt\n",
      "   | David_&_Goliath_animation_1.txt\n",
      "   | David_&_Goliath_animation_2.txt\n",
      "-> b\n",
      "-> c\n",
      "   | David_&_Goliath_animation_3.txt\n",
      "-> d\n",
      "   | David_&_Goliath_animation_4.txt\n",
      "-> e\n"
     ]
    }
   ],
   "source": [
    "for folder in [\"a\", \"b\", \"c\", \"d\", \"e\"]:\n",
    "    print(f\"-> {folder}\")\n",
    "    for file in os.listdir(folder):\n",
    "        filename = os.fsdecode(file)\n",
    "        print(f\"   | {filename}\")"
   ]
  },
  {
   "cell_type": "markdown",
   "metadata": {},
   "source": [
    "What if node **d** wants to leave the network? It will attribute it's files to it's right neighbour"
   ]
  },
  {
   "cell_type": "code",
   "execution_count": 8,
   "metadata": {},
   "outputs": [],
   "source": [
    "d.leave_network()"
   ]
  },
  {
   "cell_type": "code",
   "execution_count": 9,
   "metadata": {},
   "outputs": [
    {
     "name": "stdout",
     "output_type": "stream",
     "text": [
      "a id: 91634..., neighbours: e, c, first: False\n",
      "b id: 28106..., neighbours: c, e, first: False\n",
      "c id: 21027..., neighbours: a, b, first: True\n",
      "e id: 28710..., neighbours: b, a, first: False\n"
     ]
    }
   ],
   "source": [
    "for node in [a, b, c, e]:\n",
    "    print(f\"{node.name} id: {str(node.id)[:5]}..., neighbours: {node.neighbours[0].name}, {node.neighbours[1].name}, first: {node.first}\")\n"
   ]
  },
  {
   "cell_type": "code",
   "execution_count": 10,
   "metadata": {},
   "outputs": [
    {
     "name": "stdout",
     "output_type": "stream",
     "text": [
      "-> a\n",
      "   | David_&_Goliath_animation_0.txt\n",
      "   | David_&_Goliath_animation_1.txt\n",
      "   | David_&_Goliath_animation_2.txt\n",
      "-> b\n",
      "-> c\n",
      "   | David_&_Goliath_animation_3.txt\n",
      "   | David_&_Goliath_animation_4.txt\n",
      "-> e\n"
     ]
    }
   ],
   "source": [
    "for folder in [\"a\", \"b\", \"c\", \"e\"]:\n",
    "    print(f\"-> {folder}\")\n",
    "    for file in os.listdir(folder):\n",
    "        filename = os.fsdecode(file)\n",
    "        print(f\"   | {filename}\")"
   ]
  },
  {
   "cell_type": "markdown",
   "metadata": {},
   "source": [
    "As we can see above, the files were re-assigned to node **c**. Should node **d** re-enter the network, it will regain responsabilities for it's original files.\n",
    "\n",
    "Node **d** can also rejoin the network from any node and it will automatically join in the correct place. Let's add back node **d** from node **b**, for example"
   ]
  },
  {
   "cell_type": "code",
   "execution_count": 11,
   "metadata": {},
   "outputs": [],
   "source": [
    "d.join_network(a)"
   ]
  },
  {
   "cell_type": "code",
   "execution_count": 12,
   "metadata": {},
   "outputs": [
    {
     "data": {
      "text/plain": [
       "'c'"
      ]
     },
     "execution_count": 12,
     "metadata": {},
     "output_type": "execute_result"
    }
   ],
   "source": [
    "d.neighbours[0].name\n",
    "d.neighbours[1].name"
   ]
  },
  {
   "cell_type": "code",
   "execution_count": 13,
   "metadata": {},
   "outputs": [
    {
     "name": "stdout",
     "output_type": "stream",
     "text": [
      "-> a\n",
      "   | David_&_Goliath_animation_0.txt\n",
      "   | David_&_Goliath_animation_1.txt\n",
      "   | David_&_Goliath_animation_2.txt\n",
      "-> b\n",
      "-> c\n",
      "   | David_&_Goliath_animation_3.txt\n",
      "-> d\n",
      "   | David_&_Goliath_animation_4.txt\n",
      "-> e\n"
     ]
    }
   ],
   "source": [
    "for folder in [\"a\", \"b\", \"c\", \"d\", \"e\"]:\n",
    "    print(f\"-> {folder}\")\n",
    "    for file in os.listdir(folder):\n",
    "        filename = os.fsdecode(file)\n",
    "        print(f\"   | {filename}\")"
   ]
  },
  {
   "cell_type": "markdown",
   "metadata": {},
   "source": [
    "Finally, any node can fetch the entire file by calling the *leech* fucntion. This funcion takes the file name and the number of parts that the original file was split into. Lets have node **e** fetch the entire file"
   ]
  },
  {
   "cell_type": "code",
   "execution_count": 14,
   "metadata": {},
   "outputs": [],
   "source": [
    "e.leech(\"David_&_Goliath_animation\", 5)"
   ]
  },
  {
   "cell_type": "code",
   "execution_count": 15,
   "metadata": {},
   "outputs": [
    {
     "name": "stdout",
     "output_type": "stream",
     "text": [
      "-> a\n",
      "   | David_&_Goliath_animation_0.txt\n",
      "   | David_&_Goliath_animation_1.txt\n",
      "   | David_&_Goliath_animation_2.txt\n",
      "-> b\n",
      "-> c\n",
      "   | David_&_Goliath_animation_3.txt\n",
      "-> d\n",
      "   | David_&_Goliath_animation_4.txt\n",
      "-> e\n",
      "   | David_&_Goliath_animation.mp4\n"
     ]
    }
   ],
   "source": [
    "for folder in [\"a\", \"b\", \"c\", \"d\", \"e\"]:\n",
    "    print(f\"-> {folder}\")\n",
    "    for file in os.listdir(folder):\n",
    "        filename = os.fsdecode(file)\n",
    "        print(f\"   | {filename}\")"
   ]
  },
  {
   "cell_type": "markdown",
   "metadata": {},
   "source": [
    "As we can see, node **e** now has the original file in it's folder. Should node **e** leave, this file won't be redistributed, as it's not part of the DHT."
   ]
  },
  {
   "cell_type": "code",
   "execution_count": 16,
   "metadata": {},
   "outputs": [],
   "source": [
    "e.leave_network()"
   ]
  },
  {
   "cell_type": "code",
   "execution_count": 17,
   "metadata": {},
   "outputs": [
    {
     "name": "stdout",
     "output_type": "stream",
     "text": [
      "-> a\n",
      "   | David_&_Goliath_animation_0.txt\n",
      "   | David_&_Goliath_animation_1.txt\n",
      "   | David_&_Goliath_animation_2.txt\n",
      "-> b\n",
      "-> c\n",
      "   | David_&_Goliath_animation_3.txt\n",
      "-> d\n",
      "   | David_&_Goliath_animation_4.txt\n"
     ]
    }
   ],
   "source": [
    "for folder in [\"a\", \"b\", \"c\", \"d\"]:\n",
    "    print(f\"-> {folder}\")\n",
    "    for file in os.listdir(folder):\n",
    "        filename = os.fsdecode(file)\n",
    "        print(f\"   | {filename}\")"
   ]
  },
  {
   "cell_type": "markdown",
   "metadata": {},
   "source": [
    "Since node **e** left the network, it's folder was deleted, and the video file was not redistributed into the DHT"
   ]
  },
  {
   "cell_type": "markdown",
   "metadata": {},
   "source": [
    "Finally, lets have all the files leave the network in order to close all the directories. The last node will already have left the network because it will have no other neighbours, but we will still call it just to delete the directory"
   ]
  },
  {
   "cell_type": "code",
   "execution_count": 18,
   "metadata": {},
   "outputs": [
    {
     "name": "stdout",
     "output_type": "stream",
     "text": [
      "Node already outside network\n"
     ]
    }
   ],
   "source": [
    "a.leave_network()\n",
    "b.leave_network()\n",
    "c.leave_network()\n",
    "d.leave_network()"
   ]
  }
 ],
 "metadata": {
  "interpreter": {
   "hash": "f9f85f796d01129d0dd105a088854619f454435301f6ffec2fea96ecbd9be4ac"
  },
  "kernelspec": {
   "display_name": "Python 3.9.5 64-bit",
   "language": "python",
   "name": "python3"
  },
  "language_info": {
   "codemirror_mode": {
    "name": "ipython",
    "version": 3
   },
   "file_extension": ".py",
   "mimetype": "text/x-python",
   "name": "python",
   "nbconvert_exporter": "python",
   "pygments_lexer": "ipython3",
   "version": "3.8.10"
  },
  "orig_nbformat": 4
 },
 "nbformat": 4,
 "nbformat_minor": 2
}
